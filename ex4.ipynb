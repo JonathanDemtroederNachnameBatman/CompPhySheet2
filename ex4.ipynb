{
 "cells": [
  {
   "metadata": {},
   "cell_type": "markdown",
   "source": "",
   "id": "e3f6cedaa17ad026"
  },
  {
   "metadata": {
    "ExecuteTime": {
     "end_time": "2024-12-31T01:43:48.230259Z",
     "start_time": "2024-12-31T01:43:43.110684Z"
    }
   },
   "cell_type": "code",
   "source": [
    "import numpy as np\n",
    "import matplotlib.pyplot as plt \n",
    "import network\n",
    "from numba import jit, double, int8, int64\n",
    "from scipy.ndimage import uniform_filter1d"
   ],
   "id": "1b04c7d6fe86f845",
   "outputs": [],
   "execution_count": 2
  },
  {
   "metadata": {},
   "cell_type": "markdown",
   "source": [
    "# Aufgabe 4 \n",
    "> Zielsetzung:\n",
    "- Faltung bei konstanter Temperatur $T = 1$\n",
    "- Auftragung der von Energie über Zeit (Monte-Carlo-Schritte)\n",
    "- Struktur der resultierenden, gefalteten Zustände\n",
    "- Abschätzung der Energiebarriere\n",
    "\n",
    "> Durchführung der Monte-Carlo-Simulation: "
   ],
   "id": "69c61bc71d510054"
  },
  {
   "metadata": {
    "ExecuteTime": {
     "end_time": "2024-12-31T01:15:17.789786Z",
     "start_time": "2024-12-31T00:07:34.377715Z"
    }
   },
   "cell_type": "code",
   "source": [
    "@jit((double[:])(network.Protein.class_type.instance_type, int8, int64))\n",
    "def monte_carlo_const_temperature(protein, temperature, number_of_steps):\n",
    "    \n",
    "    simulation = np.zeros(number_of_steps, dtype=double)\n",
    "    simulation[0] = protein.energy\n",
    "    for step in range(1, number_of_steps):\n",
    "        protein.random_fold_step(temperature)\n",
    "        simulation[step] = protein.energy\n",
    "    \n",
    "    return simulation\n",
    "\n",
    "steps = 1e9\n",
    "temperature = 1\n",
    "\n",
    "p = network.create_protein(interaction_type='normal')\n",
    "arr = monte_carlo_const_temperature(p, temperature, steps)\n"
   ],
   "id": "b9b3d24780064b2f",
   "outputs": [],
   "execution_count": 2
  },
  {
   "metadata": {},
   "cell_type": "markdown",
   "source": "> Auffinden und Mittelung der Energiebarrieren + Auftragung:",
   "id": "df82766adc40d3be"
  },
  {
   "metadata": {
    "jupyter": {
     "is_executing": true
    },
    "ExecuteTime": {
     "end_time": "2024-12-31T01:43:31.787579436Z",
     "start_time": "2024-12-31T01:15:39.342112Z"
    }
   },
   "cell_type": "code",
   "source": [
    "@jit((double[:])(int64, double[:]))\n",
    "def energyBounds(number_of_steps, simulation):\n",
    "\n",
    "    energy = np.zeros(number_of_steps, dtype=double)\n",
    "    min_energy = 0\n",
    "    last_energy = 0\n",
    "    threshold = 0.3\n",
    "    last_peak = False\n",
    "    \n",
    "    for i in range(number_of_steps):\n",
    "        current_energy = simulation[i]\n",
    "        \n",
    "        if current_energy <= min_energy - 1:\n",
    "            if last_peak:\n",
    "                energy[i] = abs(last_energy - min_energy)\n",
    "                \n",
    "                \n",
    "            min_energy = current_energy\n",
    "            last_peak = False\n",
    "            \n",
    "        if current_energy > min_energy:\n",
    "            last_peak = True\n",
    "            \n",
    "        last_energy = current_energy\n",
    "    energy = energy[energy > threshold + 1]\n",
    "    return energy[energy!=0] \n",
    "\n",
    "fig, ax = plt.subplots()\n",
    "\n",
    "ax.set_xlabel('Monte-Carlo-Schritte')\n",
    "ax.set_ylabel('Energie in a.u.')\n",
    "ax.set_xscale('log')\n",
    "plt.grid()\n",
    "\n",
    "bounds = energyBounds(steps, arr)\n",
    "label =''\n",
    "if len(bounds) > 0:\n",
    "    label = r'$\\langle \\Delta E \\rangle$ = '+str(round(np.mean(bounds), 2))+' a.u.'\n",
    "ax.plot(np.arange(steps), arr, color='blue', label=label)\n",
    "\n",
    "if len(bounds) > 0:\n",
    "    plt.legend(loc='lower left')"
   ],
   "id": "63dae79bd8c900ea",
   "outputs": [],
   "execution_count": null
  },
  {
   "metadata": {},
   "cell_type": "markdown",
   "source": "> Zeichnung der Proteinkette:",
   "id": "508410361a4a69dc"
  },
  {
   "metadata": {
    "ExecuteTime": {
     "end_time": "2024-12-31T01:43:52.583681Z",
     "start_time": "2024-12-31T01:43:52.538482Z"
    }
   },
   "cell_type": "code",
   "source": "network.plot_protein(p)",
   "id": "f3492f4a912e0c99",
   "outputs": [
    {
     "ename": "NameError",
     "evalue": "name 'p' is not defined",
     "output_type": "error",
     "traceback": [
      "\u001B[0;31m---------------------------------------------------------------------------\u001B[0m",
      "\u001B[0;31mNameError\u001B[0m                                 Traceback (most recent call last)",
      "Cell \u001B[0;32mIn[3], line 1\u001B[0m\n\u001B[0;32m----> 1\u001B[0m network\u001B[38;5;241m.\u001B[39mplot_protein(\u001B[43mp\u001B[49m)\n",
      "\u001B[0;31mNameError\u001B[0m: name 'p' is not defined"
     ]
    }
   ],
   "execution_count": 3
  }
 ],
 "metadata": {
  "kernelspec": {
   "display_name": "Python 3",
   "language": "python",
   "name": "python3"
  },
  "language_info": {
   "codemirror_mode": {
    "name": "ipython",
    "version": 2
   },
   "file_extension": ".py",
   "mimetype": "text/x-python",
   "name": "python",
   "nbconvert_exporter": "python",
   "pygments_lexer": "ipython2",
   "version": "2.7.6"
  }
 },
 "nbformat": 4,
 "nbformat_minor": 5
}
